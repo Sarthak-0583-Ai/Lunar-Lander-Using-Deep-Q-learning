{
  "nbformat": 4,
  "nbformat_minor": 0,
  "metadata": {
    "colab": {
      "provenance": [],
      "authorship_tag": "ABX9TyPwR3QM8wMWeGXMdzlT2NBW",
      "include_colab_link": true
    },
    "kernelspec": {
      "name": "python3",
      "display_name": "Python 3"
    },
    "language_info": {
      "name": "python"
    }
  },
  "cells": [
    {
      "cell_type": "markdown",
      "metadata": {
        "id": "view-in-github",
        "colab_type": "text"
      },
      "source": [
        "<a href=\"https://colab.research.google.com/github/Sarthak-0583-Ai/Lunar-Lander-Using-Deep-Q-learning/blob/main/TicTacToeGame.ipynb\" target=\"_parent\"><img src=\"https://colab.research.google.com/assets/colab-badge.svg\" alt=\"Open In Colab\"/></a>"
      ]
    },
    {
      "cell_type": "markdown",
      "source": [
        "#Import the libraries"
      ],
      "metadata": {
        "id": "F1dnPiCa45L6"
      }
    },
    {
      "cell_type": "code",
      "source": [
        "import torch\n",
        "import torch.nn as nn\n",
        "import torch.optim as optim\n",
        "import random\n",
        "import numpy as np\n"
      ],
      "metadata": {
        "id": "BxHbb_IK5BGW"
      },
      "execution_count": 11,
      "outputs": []
    },
    {
      "cell_type": "markdown",
      "source": [
        "# Game Logic AI"
      ],
      "metadata": {
        "id": "8IHxMikd5HJP"
      }
    },
    {
      "cell_type": "code",
      "source": [
        "class TicTacToe:\n",
        "    def __init__(self):\n",
        "        self.board = np.zeros((3, 3), dtype=int)\n",
        "\n",
        "    def reset(self):\n",
        "        self.board = np.zeros((3, 3), dtype=int)\n",
        "\n",
        "    def print_board(self):\n",
        "        for row in self.board:\n",
        "            print(' '.join([str(cell) for cell in row]))\n",
        "\n",
        "    def available_actions(self):\n",
        "        return [(r, c) for r in range(3) for c in range(3) if self.board[r, c] == 0]\n",
        "\n",
        "    def take_action(self, action, player):\n",
        "        if self.board[action] == 0:\n",
        "            self.board[action] = player\n",
        "            return True\n",
        "        return False\n",
        "\n",
        "    def is_winner(self, player):\n",
        "        for i in range(3):\n",
        "            if all([self.board[i, j] == player for j in range(3)]):\n",
        "                return True\n",
        "            if all([self.board[j, i] == player for j in range(3)]):\n",
        "                return True\n",
        "        if all([self.board[i, i] == player for i in range(3)]):\n",
        "            return True\n",
        "        if all([self.board[i, 2 - i] == player for i in range(3)]):\n",
        "            return True\n",
        "        return False\n",
        "\n",
        "    def is_draw(self):\n",
        "        return all([cell != 0 for row in self.board for cell in row])\n",
        "\n",
        "    def game_over(self):\n",
        "        return self.is_winner(1) or self.is_winner(2) or self.is_draw()\n"
      ],
      "metadata": {
        "id": "8blZMl7O8Awr"
      },
      "execution_count": 12,
      "outputs": []
    },
    {
      "cell_type": "markdown",
      "source": [
        "# DQN module\n"
      ],
      "metadata": {
        "id": "yHKavYTF5WJd"
      }
    },
    {
      "cell_type": "code",
      "source": [
        "class TicTacToeNN(nn.Module):\n",
        "    def __init__(self):\n",
        "        super(TicTacToeNN, self).__init__()\n",
        "        self.fc1 = nn.Linear(9, 128)\n",
        "        self.fc2 = nn.Linear(128, 64)\n",
        "        self.fc3 = nn.Linear(64, 9)\n",
        "\n",
        "    def forward(self, x):\n",
        "        x = torch.relu(self.fc1(x))\n",
        "        x = torch.relu(self.fc2(x))\n",
        "        x = self.fc3(x)\n",
        "        return x\n"
      ],
      "metadata": {
        "id": "-NDIekXT5dQv"
      },
      "execution_count": 13,
      "outputs": []
    },
    {
      "cell_type": "markdown",
      "source": [
        "# Training the model"
      ],
      "metadata": {
        "id": "DIfzE0HN5gYv"
      }
    },
    {
      "cell_type": "code",
      "source": [
        "def generate_dataset(num_games):\n",
        "    states = []\n",
        "    actions = []\n",
        "    game = TicTacToe()\n",
        "    for _ in range(num_games):\n",
        "        game.reset()\n",
        "        current_player = 1\n",
        "        while not game.game_over():\n",
        "            available = game.available_actions()\n",
        "            action = random.choice(available)\n",
        "            states.append(game.board.flatten())\n",
        "            actions.append(action[0] * 3 + action[1])\n",
        "            game.take_action(action, current_player)\n",
        "            current_player = 3 - current_player  # switch player\n",
        "    return np.array(states), np.array(actions)\n",
        "\n",
        "def train(model, states, actions, epochs=1000, lr=0.001):\n",
        "    criterion = nn.CrossEntropyLoss()\n",
        "    optimizer = optim.Adam(model.parameters(), lr=lr)\n",
        "    for epoch in range(epochs):\n",
        "        optimizer.zero_grad()\n",
        "        inputs = torch.FloatTensor(states)\n",
        "        targets = torch.LongTensor(actions)\n",
        "        outputs = model(inputs)\n",
        "        loss = criterion(outputs, targets)\n",
        "        loss.backward()\n",
        "        optimizer.step()\n",
        "        if (epoch + 1) % 100 == 0:\n",
        "            print(f'Epoch [{epoch + 1}/{epochs}], Loss: {loss.item():.4f}')\n"
      ],
      "metadata": {
        "id": "GmOzxyaj5j2b"
      },
      "execution_count": 14,
      "outputs": []
    },
    {
      "cell_type": "markdown",
      "source": [
        "# Train to play against the neural network"
      ],
      "metadata": {
        "id": "GlBeNJ625nbR"
      }
    },
    {
      "cell_type": "code",
      "source": [
        "def play_game(model):\n",
        "    game = TicTacToe()\n",
        "    current_player = 1\n",
        "    while not game.game_over():\n",
        "        game.print_board()\n",
        "        if current_player == 1:\n",
        "            row = int(input(\"Enter the row (0, 1, 2): \"))\n",
        "            col = int(input(\"Enter the column (0, 1, 2): \"))\n",
        "            if not game.take_action((row, col), 1):\n",
        "                print(\"Invalid move! Try again.\")\n",
        "                continue\n",
        "        else:\n",
        "            state = torch.FloatTensor(game.board.flatten()).unsqueeze(0)\n",
        "            with torch.no_grad():\n",
        "                action_probs = model(state).numpy().flatten()\n",
        "            action = np.argmax(action_probs)\n",
        "            row, col = divmod(action, 3)\n",
        "            game.take_action((row, col), 2)\n",
        "        current_player = 3 - current_player  # switch player\n",
        "    game.print_board()\n",
        "    if game.is_winner(1):\n",
        "        print(\"You win!\")\n",
        "    elif game.is_winner(2):\n",
        "        print(\"Computer wins!\")\n",
        "    else:\n",
        "        print(\"It's a draw!\")\n"
      ],
      "metadata": {
        "collapsed": true,
        "id": "YjFlmvze5txo"
      },
      "execution_count": 15,
      "outputs": []
    },
    {
      "cell_type": "markdown",
      "source": [
        "# Dataset"
      ],
      "metadata": {
        "id": "gpBbs1rr5yVg"
      }
    },
    {
      "cell_type": "code",
      "source": [
        "def play_game(model):\n",
        "    game = TicTacToe()\n",
        "    current_player = 1\n",
        "    while not game.game_over():\n",
        "        game.print_board()\n",
        "        if current_player == 1:\n",
        "            row = int(input(\"Enter the row (0, 1, 2): \"))\n",
        "            col = int(input(\"Enter the column (0, 1, 2): \"))\n",
        "            if not game.take_action((row, col), 1):\n",
        "                print(\"Invalid move! Try again.\")\n",
        "                continue\n",
        "        else:\n",
        "            state = torch.FloatTensor(game.board.flatten()).unsqueeze(0)\n",
        "            with torch.no_grad():\n",
        "                action_probs = model(state).numpy().flatten()\n",
        "            action = np.argmax(action_probs)\n",
        "            row, col = divmod(action, 3)\n",
        "            game.take_action((row, col), 2)\n",
        "        current_player = 3 - current_player  # switch player\n",
        "    game.print_board()\n",
        "    if game.is_winner(1):\n",
        "        print(\"You win!\")\n",
        "    elif game.is_winner(2):\n",
        "        print(\"Computer wins!\")\n",
        "    else:\n",
        "        print(\"It's a draw!\")\n"
      ],
      "metadata": {
        "id": "put7aOQf9GH8"
      },
      "execution_count": 16,
      "outputs": []
    },
    {
      "cell_type": "code",
      "source": [
        "# Generate dataset\n",
        "states, actions = generate_dataset(1000)\n",
        "\n",
        "# Initialize and train the model\n",
        "model = TicTacToeNN()\n",
        "train(model, states, actions, epochs=1000, lr=0.001)\n",
        "\n",
        "# Play a game against the trained model\n",
        "play_game(model)\n"
      ],
      "metadata": {
        "colab": {
          "base_uri": "https://localhost:8080/"
        },
        "id": "KpISPEXQUXPe",
        "outputId": "a5677b9f-91b1-4764-b3e1-6736ebb17f08"
      },
      "execution_count": 17,
      "outputs": [
        {
          "output_type": "stream",
          "name": "stdout",
          "text": [
            "Epoch [100/1000], Loss: 1.5960\n",
            "Epoch [200/1000], Loss: 1.5458\n",
            "Epoch [300/1000], Loss: 1.5140\n",
            "Epoch [400/1000], Loss: 1.4900\n",
            "Epoch [500/1000], Loss: 1.4702\n",
            "Epoch [600/1000], Loss: 1.4541\n",
            "Epoch [700/1000], Loss: 1.4397\n",
            "Epoch [800/1000], Loss: 1.4273\n",
            "Epoch [900/1000], Loss: 1.4168\n",
            "Epoch [1000/1000], Loss: 1.4074\n",
            "0 0 0\n",
            "0 0 0\n",
            "0 0 0\n",
            "Enter the row (0, 1, 2): 0\n",
            "Enter the column (0, 1, 2): 0\n",
            "1 0 0\n",
            "0 0 0\n",
            "0 0 0\n",
            "1 2 0\n",
            "0 0 0\n",
            "0 0 0\n",
            "Enter the row (0, 1, 2): 1\n",
            "Enter the column (0, 1, 2): 1\n",
            "1 2 0\n",
            "0 1 0\n",
            "0 0 0\n",
            "1 2 0\n",
            "0 1 0\n",
            "2 0 0\n",
            "Enter the row (0, 1, 2): 2\n",
            "Enter the column (0, 1, 2): 2\n",
            "1 2 0\n",
            "0 1 0\n",
            "2 0 1\n",
            "You win!\n"
          ]
        }
      ]
    }
  ]
}